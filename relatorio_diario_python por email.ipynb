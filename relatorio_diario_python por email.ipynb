{
  "cells": [
    {
      "cell_type": "markdown",
      "metadata": {
        "id": "view-in-github",
        "colab_type": "text"
      },
      "source": [
        "<a href=\"https://colab.research.google.com/github/Rickmg01/Ricardo_Cruz/blob/main/relatorio_diario_python%20por%20email.ipynb\" target=\"_parent\"><img src=\"https://colab.research.google.com/assets/colab-badge.svg\" alt=\"Open In Colab\"/></a>"
      ]
    },
    {
      "cell_type": "markdown",
      "source": [],
      "metadata": {
        "id": "O0UHdXBeFBgo"
      }
    },
    {
      "cell_type": "code",
      "source": [
        "!pip install python-dotenv"
      ],
      "metadata": {
        "id": "kBjfE2n8DuSr",
        "outputId": "46e69c99-759b-40be-88cc-735213a0e883",
        "colab": {
          "base_uri": "https://localhost:8080/"
        }
      },
      "execution_count": null,
      "outputs": [
        {
          "output_type": "stream",
          "name": "stdout",
          "text": [
            "Looking in indexes: https://pypi.org/simple, https://us-python.pkg.dev/colab-wheels/public/simple/\n",
            "Collecting python-dotenv\n",
            "  Downloading python_dotenv-1.0.0-py3-none-any.whl (19 kB)\n",
            "Installing collected packages: python-dotenv\n",
            "Successfully installed python-dotenv-1.0.0\n"
          ]
        }
      ]
    },
    {
      "cell_type": "markdown",
      "source": [],
      "metadata": {
        "id": "m_7XSpmOFC72"
      }
    },
    {
      "cell_type": "code",
      "source": [
        "!pip install pandas"
      ],
      "metadata": {
        "id": "MfdusXUCD66d",
        "outputId": "e5a19a33-f85e-43b0-dafb-23db946e0a6f",
        "colab": {
          "base_uri": "https://localhost:8080/"
        }
      },
      "execution_count": null,
      "outputs": [
        {
          "output_type": "stream",
          "name": "stdout",
          "text": [
            "Looking in indexes: https://pypi.org/simple, https://us-python.pkg.dev/colab-wheels/public/simple/\n",
            "Requirement already satisfied: pandas in /usr/local/lib/python3.9/dist-packages (1.4.4)\n",
            "Requirement already satisfied: numpy>=1.18.5 in /usr/local/lib/python3.9/dist-packages (from pandas) (1.22.4)\n",
            "Requirement already satisfied: pytz>=2020.1 in /usr/local/lib/python3.9/dist-packages (from pandas) (2022.7.1)\n",
            "Requirement already satisfied: python-dateutil>=2.8.1 in /usr/local/lib/python3.9/dist-packages (from pandas) (2.8.2)\n",
            "Requirement already satisfied: six>=1.5 in /usr/local/lib/python3.9/dist-packages (from python-dateutil>=2.8.1->pandas) (1.16.0)\n"
          ]
        }
      ]
    },
    {
      "cell_type": "markdown",
      "source": [],
      "metadata": {
        "id": "8KiNsbkFFEIh"
      }
    },
    {
      "cell_type": "code",
      "source": [
        "!pip install yfinance==0.1.74"
      ],
      "metadata": {
        "id": "hk_S8T9ZEA6d",
        "outputId": "5f3d13bd-6ba8-4d91-a60b-62764119b979",
        "colab": {
          "base_uri": "https://localhost:8080/",
          "height": 468
        }
      },
      "execution_count": null,
      "outputs": [
        {
          "output_type": "stream",
          "name": "stdout",
          "text": [
            "Looking in indexes: https://pypi.org/simple, https://us-python.pkg.dev/colab-wheels/public/simple/\n",
            "Collecting yfinance==0.1.74\n",
            "  Downloading yfinance-0.1.74-py2.py3-none-any.whl (27 kB)\n",
            "Requirement already satisfied: lxml>=4.5.1 in /usr/local/lib/python3.9/dist-packages (from yfinance==0.1.74) (4.9.2)\n",
            "Requirement already satisfied: numpy>=1.15 in /usr/local/lib/python3.9/dist-packages (from yfinance==0.1.74) (1.22.4)\n",
            "Requirement already satisfied: multitasking>=0.0.7 in /usr/local/lib/python3.9/dist-packages (from yfinance==0.1.74) (0.0.11)\n",
            "Requirement already satisfied: pandas>=0.24.0 in /usr/local/lib/python3.9/dist-packages (from yfinance==0.1.74) (1.4.4)\n",
            "Requirement already satisfied: requests>=2.26 in /usr/local/lib/python3.9/dist-packages (from yfinance==0.1.74) (2.27.1)\n",
            "Requirement already satisfied: python-dateutil>=2.8.1 in /usr/local/lib/python3.9/dist-packages (from pandas>=0.24.0->yfinance==0.1.74) (2.8.2)\n",
            "Requirement already satisfied: pytz>=2020.1 in /usr/local/lib/python3.9/dist-packages (from pandas>=0.24.0->yfinance==0.1.74) (2022.7.1)\n",
            "Requirement already satisfied: certifi>=2017.4.17 in /usr/local/lib/python3.9/dist-packages (from requests>=2.26->yfinance==0.1.74) (2022.12.7)\n",
            "Requirement already satisfied: idna<4,>=2.5 in /usr/local/lib/python3.9/dist-packages (from requests>=2.26->yfinance==0.1.74) (3.4)\n",
            "Requirement already satisfied: urllib3<1.27,>=1.21.1 in /usr/local/lib/python3.9/dist-packages (from requests>=2.26->yfinance==0.1.74) (1.26.15)\n",
            "Requirement already satisfied: charset-normalizer~=2.0.0 in /usr/local/lib/python3.9/dist-packages (from requests>=2.26->yfinance==0.1.74) (2.0.12)\n",
            "Requirement already satisfied: six>=1.5 in /usr/local/lib/python3.9/dist-packages (from python-dateutil>=2.8.1->pandas>=0.24.0->yfinance==0.1.74) (1.16.0)\n",
            "Installing collected packages: yfinance\n",
            "  Attempting uninstall: yfinance\n",
            "    Found existing installation: yfinance 0.2.14\n",
            "    Uninstalling yfinance-0.2.14:\n",
            "      Successfully uninstalled yfinance-0.2.14\n",
            "Successfully installed yfinance-0.1.74\n"
          ]
        },
        {
          "output_type": "display_data",
          "data": {
            "application/vnd.colab-display-data+json": {
              "pip_warning": {
                "packages": [
                  "yfinance"
                ]
              }
            }
          },
          "metadata": {}
        }
      ]
    },
    {
      "cell_type": "markdown",
      "source": [],
      "metadata": {
        "id": "9Z4v3nmIFFfL"
      }
    },
    {
      "cell_type": "code",
      "source": [
        "!pip install mplcyberpunk"
      ],
      "metadata": {
        "id": "wRFADGLOEdhM",
        "outputId": "77b5e9ef-e217-413c-f140-cdd3a9ee0a4b",
        "colab": {
          "base_uri": "https://localhost:8080/"
        }
      },
      "execution_count": null,
      "outputs": [
        {
          "output_type": "stream",
          "name": "stdout",
          "text": [
            "Looking in indexes: https://pypi.org/simple, https://us-python.pkg.dev/colab-wheels/public/simple/\n",
            "Collecting mplcyberpunk\n",
            "  Downloading mplcyberpunk-0.6.0-py3-none-any.whl (6.0 kB)\n",
            "Requirement already satisfied: matplotlib in /usr/local/lib/python3.9/dist-packages (from mplcyberpunk) (3.7.1)\n",
            "Requirement already satisfied: fonttools>=4.22.0 in /usr/local/lib/python3.9/dist-packages (from matplotlib->mplcyberpunk) (4.39.3)\n",
            "Requirement already satisfied: python-dateutil>=2.7 in /usr/local/lib/python3.9/dist-packages (from matplotlib->mplcyberpunk) (2.8.2)\n",
            "Requirement already satisfied: pillow>=6.2.0 in /usr/local/lib/python3.9/dist-packages (from matplotlib->mplcyberpunk) (8.4.0)\n",
            "Requirement already satisfied: numpy>=1.20 in /usr/local/lib/python3.9/dist-packages (from matplotlib->mplcyberpunk) (1.22.4)\n",
            "Requirement already satisfied: kiwisolver>=1.0.1 in /usr/local/lib/python3.9/dist-packages (from matplotlib->mplcyberpunk) (1.4.4)\n",
            "Requirement already satisfied: contourpy>=1.0.1 in /usr/local/lib/python3.9/dist-packages (from matplotlib->mplcyberpunk) (1.0.7)\n",
            "Requirement already satisfied: cycler>=0.10 in /usr/local/lib/python3.9/dist-packages (from matplotlib->mplcyberpunk) (0.11.0)\n",
            "Requirement already satisfied: pyparsing>=2.3.1 in /usr/local/lib/python3.9/dist-packages (from matplotlib->mplcyberpunk) (3.0.9)\n",
            "Requirement already satisfied: importlib-resources>=3.2.0 in /usr/local/lib/python3.9/dist-packages (from matplotlib->mplcyberpunk) (5.12.0)\n",
            "Requirement already satisfied: packaging>=20.0 in /usr/local/lib/python3.9/dist-packages (from matplotlib->mplcyberpunk) (23.0)\n",
            "Requirement already satisfied: zipp>=3.1.0 in /usr/local/lib/python3.9/dist-packages (from importlib-resources>=3.2.0->matplotlib->mplcyberpunk) (3.15.0)\n",
            "Requirement already satisfied: six>=1.5 in /usr/local/lib/python3.9/dist-packages (from python-dateutil>=2.7->matplotlib->mplcyberpunk) (1.16.0)\n",
            "Installing collected packages: mplcyberpunk\n",
            "Successfully installed mplcyberpunk-0.6.0\n"
          ]
        }
      ]
    },
    {
      "cell_type": "code",
      "source": [
        "import pandas as pd #principal pacote para analise de dados"
      ],
      "metadata": {
        "id": "NQ4J0RhoE4kV"
      },
      "execution_count": null,
      "outputs": []
    },
    {
      "cell_type": "code",
      "source": [
        "import datetime     #pacote que lida com data"
      ],
      "metadata": {
        "id": "jz3JGaWGGACn"
      },
      "execution_count": null,
      "outputs": []
    },
    {
      "cell_type": "code",
      "source": [
        "import yfinance as yf # pacote para baixar cotações de graça da yfanance  dolar e ibovespa"
      ],
      "metadata": {
        "id": "6feTh_L_GGET"
      },
      "execution_count": null,
      "outputs": []
    },
    {
      "cell_type": "code",
      "source": [
        "import mplcyberpunk  # pacote de grafico shid"
      ],
      "metadata": {
        "id": "ch_sQY2EGLDm"
      },
      "execution_count": null,
      "outputs": []
    },
    {
      "cell_type": "code",
      "source": [
        "from matplotlib import pyplot as plt #pacote de grafico"
      ],
      "metadata": {
        "id": "Ulh8vxFuGPra"
      },
      "execution_count": null,
      "outputs": []
    },
    {
      "cell_type": "code",
      "source": [
        "import smtplib #pacote para enviar email"
      ],
      "metadata": {
        "id": "H6nEmXC_GVwX"
      },
      "execution_count": null,
      "outputs": []
    },
    {
      "cell_type": "code",
      "source": [
        "from email.message import EmailMessage #pacote para enviar e-mmail"
      ],
      "metadata": {
        "id": "_I9mkqgyGaxB"
      },
      "execution_count": null,
      "outputs": []
    },
    {
      "cell_type": "markdown",
      "source": [
        "**Pegar dados  no Yahoo Finance**"
      ],
      "metadata": {
        "id": "2A-T4QCqH6vo"
      }
    },
    {
      "cell_type": "code",
      "source": [
        ", display_svg\n",
        "ativos = [\"^BVSP\",\"BRL=X\",] #buscar ativos do ibovespa e dolar usando lista\n",
        "\n",
        "hoje = datetime.datetime.now() #buscar data e hora de hoje usando o now\n",
        "\n",
        "um_ano_atras = hoje - datetime.timedelta(days = 365) #buscar a data de um ano atras\n",
        "\n",
        "dados_mercado = yf.download(ativos, um_ano_atras, hoje) #buscar no site os dados \n",
        "\n",
        "\n",
        "display(dados_mercado)"
      ],
      "metadata": {
        "id": "V3lRoLIWLUj7",
        "outputId": "2f93ec0e-96ea-4de5-c1c5-cb01cc2f8edd",
        "colab": {
          "base_uri": "https://localhost:8080/",
          "height": 504
        }
      },
      "execution_count": null,
      "outputs": [
        {
          "output_type": "stream",
          "name": "stdout",
          "text": [
            "[*********************100%***********************]  2 of 2 completed\n"
          ]
        },
        {
          "output_type": "display_data",
          "data": {
            "text/plain": [
              "           Adj Close                  Close                     High  \\\n",
              "               BRL=X          ^BVSP   BRL=X          ^BVSP     BRL=X   \n",
              "Date                                                                   \n",
              "2022-04-04    4.6572  121280.000000  4.6572  121280.000000  4.670100   \n",
              "2022-04-05    4.5938  118885.000000  4.5938  118885.000000  4.669100   \n",
              "2022-04-06    4.6507  118228.000000  4.6507  118228.000000  4.712600   \n",
              "2022-04-07    4.7152  118862.000000  4.7152  118862.000000  4.769900   \n",
              "2022-04-08    4.7521  118322.000000  4.7521  118322.000000  4.791300   \n",
              "...              ...            ...     ...            ...       ...   \n",
              "2023-03-29    5.1644  101793.000000  5.1644  101793.000000  5.182300   \n",
              "2023-03-30    5.1342  103713.000000  5.1342  103713.000000  5.155928   \n",
              "2023-03-31    5.0927  101882.000000  5.0927  101882.000000  5.103300   \n",
              "2023-04-03    5.0623  101506.000000  5.0623  101506.000000  5.075500   \n",
              "2023-04-04       NaN  102554.109375     NaN  102554.109375       NaN   \n",
              "\n",
              "                                Low                   Open                 \\\n",
              "                    ^BVSP     BRL=X          ^BVSP   BRL=X          ^BVSP   \n",
              "Date                                                                        \n",
              "2022-04-04  121570.000000  4.604057  120754.000000  4.6572  121569.000000   \n",
              "2022-04-05  121628.000000  4.575500  118794.000000  4.5938  121279.000000   \n",
              "2022-04-06  118885.000000  4.647900  116791.000000  4.6507  118885.000000   \n",
              "2022-04-07  119247.000000  4.690400  117509.000000  4.7152  118226.000000   \n",
              "2022-04-08  118868.000000  4.707518  117487.000000  4.7521  118861.000000   \n",
              "...                   ...       ...            ...     ...            ...   \n",
              "2023-03-29  102213.000000  5.131730  100248.000000  5.1644  101185.000000   \n",
              "2023-03-30  104085.000000  5.077300  101796.000000  5.1342  101796.000000   \n",
              "2023-03-31  104041.000000  5.055200  101476.000000  5.0927  103714.000000   \n",
              "2023-04-03  101916.000000  5.036216  100651.000000  5.0623  101883.000000   \n",
              "2023-04-04  102554.109375       NaN  101504.820312     NaN  101504.820312   \n",
              "\n",
              "           Volume              \n",
              "            BRL=X       ^BVSP  \n",
              "Date                           \n",
              "2022-04-04    0.0   8812500.0  \n",
              "2022-04-05    0.0  11788300.0  \n",
              "2022-04-06    0.0  13410800.0  \n",
              "2022-04-07    0.0  11520100.0  \n",
              "2022-04-08    0.0  11225800.0  \n",
              "...           ...         ...  \n",
              "2023-03-29    0.0  12456100.0  \n",
              "2023-03-30    0.0  14901600.0  \n",
              "2023-03-31    0.0  15111200.0  \n",
              "2023-04-03    0.0  12794800.0  \n",
              "2023-04-04    NaN         0.0  \n",
              "\n",
              "[262 rows x 12 columns]"
            ],
            "text/html": [
              "\n",
              "  <div id=\"df-b9e91b65-f915-4886-9811-1a204f6a81e4\">\n",
              "    <div class=\"colab-df-container\">\n",
              "      <div>\n",
              "<style scoped>\n",
              "    .dataframe tbody tr th:only-of-type {\n",
              "        vertical-align: middle;\n",
              "    }\n",
              "\n",
              "    .dataframe tbody tr th {\n",
              "        vertical-align: top;\n",
              "    }\n",
              "\n",
              "    .dataframe thead tr th {\n",
              "        text-align: left;\n",
              "    }\n",
              "\n",
              "    .dataframe thead tr:last-of-type th {\n",
              "        text-align: right;\n",
              "    }\n",
              "</style>\n",
              "<table border=\"1\" class=\"dataframe\">\n",
              "  <thead>\n",
              "    <tr>\n",
              "      <th></th>\n",
              "      <th colspan=\"2\" halign=\"left\">Adj Close</th>\n",
              "      <th colspan=\"2\" halign=\"left\">Close</th>\n",
              "      <th colspan=\"2\" halign=\"left\">High</th>\n",
              "      <th colspan=\"2\" halign=\"left\">Low</th>\n",
              "      <th colspan=\"2\" halign=\"left\">Open</th>\n",
              "      <th colspan=\"2\" halign=\"left\">Volume</th>\n",
              "    </tr>\n",
              "    <tr>\n",
              "      <th></th>\n",
              "      <th>BRL=X</th>\n",
              "      <th>^BVSP</th>\n",
              "      <th>BRL=X</th>\n",
              "      <th>^BVSP</th>\n",
              "      <th>BRL=X</th>\n",
              "      <th>^BVSP</th>\n",
              "      <th>BRL=X</th>\n",
              "      <th>^BVSP</th>\n",
              "      <th>BRL=X</th>\n",
              "      <th>^BVSP</th>\n",
              "      <th>BRL=X</th>\n",
              "      <th>^BVSP</th>\n",
              "    </tr>\n",
              "    <tr>\n",
              "      <th>Date</th>\n",
              "      <th></th>\n",
              "      <th></th>\n",
              "      <th></th>\n",
              "      <th></th>\n",
              "      <th></th>\n",
              "      <th></th>\n",
              "      <th></th>\n",
              "      <th></th>\n",
              "      <th></th>\n",
              "      <th></th>\n",
              "      <th></th>\n",
              "      <th></th>\n",
              "    </tr>\n",
              "  </thead>\n",
              "  <tbody>\n",
              "    <tr>\n",
              "      <th>2022-04-04</th>\n",
              "      <td>4.6572</td>\n",
              "      <td>121280.000000</td>\n",
              "      <td>4.6572</td>\n",
              "      <td>121280.000000</td>\n",
              "      <td>4.670100</td>\n",
              "      <td>121570.000000</td>\n",
              "      <td>4.604057</td>\n",
              "      <td>120754.000000</td>\n",
              "      <td>4.6572</td>\n",
              "      <td>121569.000000</td>\n",
              "      <td>0.0</td>\n",
              "      <td>8812500.0</td>\n",
              "    </tr>\n",
              "    <tr>\n",
              "      <th>2022-04-05</th>\n",
              "      <td>4.5938</td>\n",
              "      <td>118885.000000</td>\n",
              "      <td>4.5938</td>\n",
              "      <td>118885.000000</td>\n",
              "      <td>4.669100</td>\n",
              "      <td>121628.000000</td>\n",
              "      <td>4.575500</td>\n",
              "      <td>118794.000000</td>\n",
              "      <td>4.5938</td>\n",
              "      <td>121279.000000</td>\n",
              "      <td>0.0</td>\n",
              "      <td>11788300.0</td>\n",
              "    </tr>\n",
              "    <tr>\n",
              "      <th>2022-04-06</th>\n",
              "      <td>4.6507</td>\n",
              "      <td>118228.000000</td>\n",
              "      <td>4.6507</td>\n",
              "      <td>118228.000000</td>\n",
              "      <td>4.712600</td>\n",
              "      <td>118885.000000</td>\n",
              "      <td>4.647900</td>\n",
              "      <td>116791.000000</td>\n",
              "      <td>4.6507</td>\n",
              "      <td>118885.000000</td>\n",
              "      <td>0.0</td>\n",
              "      <td>13410800.0</td>\n",
              "    </tr>\n",
              "    <tr>\n",
              "      <th>2022-04-07</th>\n",
              "      <td>4.7152</td>\n",
              "      <td>118862.000000</td>\n",
              "      <td>4.7152</td>\n",
              "      <td>118862.000000</td>\n",
              "      <td>4.769900</td>\n",
              "      <td>119247.000000</td>\n",
              "      <td>4.690400</td>\n",
              "      <td>117509.000000</td>\n",
              "      <td>4.7152</td>\n",
              "      <td>118226.000000</td>\n",
              "      <td>0.0</td>\n",
              "      <td>11520100.0</td>\n",
              "    </tr>\n",
              "    <tr>\n",
              "      <th>2022-04-08</th>\n",
              "      <td>4.7521</td>\n",
              "      <td>118322.000000</td>\n",
              "      <td>4.7521</td>\n",
              "      <td>118322.000000</td>\n",
              "      <td>4.791300</td>\n",
              "      <td>118868.000000</td>\n",
              "      <td>4.707518</td>\n",
              "      <td>117487.000000</td>\n",
              "      <td>4.7521</td>\n",
              "      <td>118861.000000</td>\n",
              "      <td>0.0</td>\n",
              "      <td>11225800.0</td>\n",
              "    </tr>\n",
              "    <tr>\n",
              "      <th>...</th>\n",
              "      <td>...</td>\n",
              "      <td>...</td>\n",
              "      <td>...</td>\n",
              "      <td>...</td>\n",
              "      <td>...</td>\n",
              "      <td>...</td>\n",
              "      <td>...</td>\n",
              "      <td>...</td>\n",
              "      <td>...</td>\n",
              "      <td>...</td>\n",
              "      <td>...</td>\n",
              "      <td>...</td>\n",
              "    </tr>\n",
              "    <tr>\n",
              "      <th>2023-03-29</th>\n",
              "      <td>5.1644</td>\n",
              "      <td>101793.000000</td>\n",
              "      <td>5.1644</td>\n",
              "      <td>101793.000000</td>\n",
              "      <td>5.182300</td>\n",
              "      <td>102213.000000</td>\n",
              "      <td>5.131730</td>\n",
              "      <td>100248.000000</td>\n",
              "      <td>5.1644</td>\n",
              "      <td>101185.000000</td>\n",
              "      <td>0.0</td>\n",
              "      <td>12456100.0</td>\n",
              "    </tr>\n",
              "    <tr>\n",
              "      <th>2023-03-30</th>\n",
              "      <td>5.1342</td>\n",
              "      <td>103713.000000</td>\n",
              "      <td>5.1342</td>\n",
              "      <td>103713.000000</td>\n",
              "      <td>5.155928</td>\n",
              "      <td>104085.000000</td>\n",
              "      <td>5.077300</td>\n",
              "      <td>101796.000000</td>\n",
              "      <td>5.1342</td>\n",
              "      <td>101796.000000</td>\n",
              "      <td>0.0</td>\n",
              "      <td>14901600.0</td>\n",
              "    </tr>\n",
              "    <tr>\n",
              "      <th>2023-03-31</th>\n",
              "      <td>5.0927</td>\n",
              "      <td>101882.000000</td>\n",
              "      <td>5.0927</td>\n",
              "      <td>101882.000000</td>\n",
              "      <td>5.103300</td>\n",
              "      <td>104041.000000</td>\n",
              "      <td>5.055200</td>\n",
              "      <td>101476.000000</td>\n",
              "      <td>5.0927</td>\n",
              "      <td>103714.000000</td>\n",
              "      <td>0.0</td>\n",
              "      <td>15111200.0</td>\n",
              "    </tr>\n",
              "    <tr>\n",
              "      <th>2023-04-03</th>\n",
              "      <td>5.0623</td>\n",
              "      <td>101506.000000</td>\n",
              "      <td>5.0623</td>\n",
              "      <td>101506.000000</td>\n",
              "      <td>5.075500</td>\n",
              "      <td>101916.000000</td>\n",
              "      <td>5.036216</td>\n",
              "      <td>100651.000000</td>\n",
              "      <td>5.0623</td>\n",
              "      <td>101883.000000</td>\n",
              "      <td>0.0</td>\n",
              "      <td>12794800.0</td>\n",
              "    </tr>\n",
              "    <tr>\n",
              "      <th>2023-04-04</th>\n",
              "      <td>NaN</td>\n",
              "      <td>102554.109375</td>\n",
              "      <td>NaN</td>\n",
              "      <td>102554.109375</td>\n",
              "      <td>NaN</td>\n",
              "      <td>102554.109375</td>\n",
              "      <td>NaN</td>\n",
              "      <td>101504.820312</td>\n",
              "      <td>NaN</td>\n",
              "      <td>101504.820312</td>\n",
              "      <td>NaN</td>\n",
              "      <td>0.0</td>\n",
              "    </tr>\n",
              "  </tbody>\n",
              "</table>\n",
              "<p>262 rows × 12 columns</p>\n",
              "</div>\n",
              "      <button class=\"colab-df-convert\" onclick=\"convertToInteractive('df-b9e91b65-f915-4886-9811-1a204f6a81e4')\"\n",
              "              title=\"Convert this dataframe to an interactive table.\"\n",
              "              style=\"display:none;\">\n",
              "        \n",
              "  <svg xmlns=\"http://www.w3.org/2000/svg\" height=\"24px\"viewBox=\"0 0 24 24\"\n",
              "       width=\"24px\">\n",
              "    <path d=\"M0 0h24v24H0V0z\" fill=\"none\"/>\n",
              "    <path d=\"M18.56 5.44l.94 2.06.94-2.06 2.06-.94-2.06-.94-.94-2.06-.94 2.06-2.06.94zm-11 1L8.5 8.5l.94-2.06 2.06-.94-2.06-.94L8.5 2.5l-.94 2.06-2.06.94zm10 10l.94 2.06.94-2.06 2.06-.94-2.06-.94-.94-2.06-.94 2.06-2.06.94z\"/><path d=\"M17.41 7.96l-1.37-1.37c-.4-.4-.92-.59-1.43-.59-.52 0-1.04.2-1.43.59L10.3 9.45l-7.72 7.72c-.78.78-.78 2.05 0 2.83L4 21.41c.39.39.9.59 1.41.59.51 0 1.02-.2 1.41-.59l7.78-7.78 2.81-2.81c.8-.78.8-2.07 0-2.86zM5.41 20L4 18.59l7.72-7.72 1.47 1.35L5.41 20z\"/>\n",
              "  </svg>\n",
              "      </button>\n",
              "      \n",
              "  <style>\n",
              "    .colab-df-container {\n",
              "      display:flex;\n",
              "      flex-wrap:wrap;\n",
              "      gap: 12px;\n",
              "    }\n",
              "\n",
              "    .colab-df-convert {\n",
              "      background-color: #E8F0FE;\n",
              "      border: none;\n",
              "      border-radius: 50%;\n",
              "      cursor: pointer;\n",
              "      display: none;\n",
              "      fill: #1967D2;\n",
              "      height: 32px;\n",
              "      padding: 0 0 0 0;\n",
              "      width: 32px;\n",
              "    }\n",
              "\n",
              "    .colab-df-convert:hover {\n",
              "      background-color: #E2EBFA;\n",
              "      box-shadow: 0px 1px 2px rgba(60, 64, 67, 0.3), 0px 1px 3px 1px rgba(60, 64, 67, 0.15);\n",
              "      fill: #174EA6;\n",
              "    }\n",
              "\n",
              "    [theme=dark] .colab-df-convert {\n",
              "      background-color: #3B4455;\n",
              "      fill: #D2E3FC;\n",
              "    }\n",
              "\n",
              "    [theme=dark] .colab-df-convert:hover {\n",
              "      background-color: #434B5C;\n",
              "      box-shadow: 0px 1px 3px 1px rgba(0, 0, 0, 0.15);\n",
              "      filter: drop-shadow(0px 1px 2px rgba(0, 0, 0, 0.3));\n",
              "      fill: #FFFFFF;\n",
              "    }\n",
              "  </style>\n",
              "\n",
              "      <script>\n",
              "        const buttonEl =\n",
              "          document.querySelector('#df-b9e91b65-f915-4886-9811-1a204f6a81e4 button.colab-df-convert');\n",
              "        buttonEl.style.display =\n",
              "          google.colab.kernel.accessAllowed ? 'block' : 'none';\n",
              "\n",
              "        async function convertToInteractive(key) {\n",
              "          const element = document.querySelector('#df-b9e91b65-f915-4886-9811-1a204f6a81e4');\n",
              "          const dataTable =\n",
              "            await google.colab.kernel.invokeFunction('convertToInteractive',\n",
              "                                                     [key], {});\n",
              "          if (!dataTable) return;\n",
              "\n",
              "          const docLinkHtml = 'Like what you see? Visit the ' +\n",
              "            '<a target=\"_blank\" href=https://colab.research.google.com/notebooks/data_table.ipynb>data table notebook</a>'\n",
              "            + ' to learn more about interactive tables.';\n",
              "          element.innerHTML = '';\n",
              "          dataTable['output_type'] = 'display_data';\n",
              "          await google.colab.output.renderOutput(dataTable, element);\n",
              "          const docLink = document.createElement('div');\n",
              "          docLink.innerHTML = docLinkHtml;\n",
              "          element.appendChild(docLink);\n",
              "        }\n",
              "      </script>\n",
              "    </div>\n",
              "  </div>\n",
              "  "
            ]
          },
          "metadata": {}
        }
      ]
    },
    {
      "cell_type": "markdown",
      "source": [
        "**MANIPULANDO OS DADOS - SELEÇÃO E EXCLUSAO DE DADOS**"
      ],
      "metadata": {
        "id": "435x4GCKRZ9k"
      }
    },
    {
      "cell_type": "code",
      "source": [
        "dados_fechamento=dados_mercado['Adj Close'] # buscando a coluna ADJ CLOSED\n",
        "\n",
        "dados_fechamento.columns = ['dolar','ibovespa'] # mudando nome da coluna\n",
        "\n",
        "dados_fechamento = dados_fechamento.dropna() #apagar dados faltantes (NAN) da tabela\n",
        "\n",
        "dados_fechamento.head(50) #buscar os 50 primeiros dados da tabela"
      ],
      "metadata": {
        "id": "9jNFC45XRdbO",
        "outputId": "6598d70e-d308-431e-ea5c-d7c653a5a368",
        "colab": {
          "base_uri": "https://localhost:8080/",
          "height": 1000
        }
      },
      "execution_count": null,
      "outputs": [
        {
          "output_type": "execute_result",
          "data": {
            "text/plain": [
              "               dolar  ibovespa\n",
              "Date                          \n",
              "2022-04-04  4.657200  121280.0\n",
              "2022-04-05  4.593800  118885.0\n",
              "2022-04-06  4.650700  118228.0\n",
              "2022-04-07  4.715200  118862.0\n",
              "2022-04-08  4.752100  118322.0\n",
              "2022-04-11  4.698100  116953.0\n",
              "2022-04-12  4.693600  116147.0\n",
              "2022-04-13  4.673100  116782.0\n",
              "2022-04-14  4.690200  116182.0\n",
              "2022-04-18  4.700600  115687.0\n",
              "2022-04-19  4.652000  115057.0\n",
              "2022-04-20  4.665000  114344.0\n",
              "2022-04-22  4.620800  111078.0\n",
              "2022-04-25  4.795200  110685.0\n",
              "2022-04-26  4.876200  108213.0\n",
              "2022-04-27  4.997800  109349.0\n",
              "2022-04-28  4.963600  109919.0\n",
              "2022-04-29  4.937800  107876.0\n",
              "2022-05-02  4.971300  106639.0\n",
              "2022-05-03  5.084700  106528.0\n",
              "2022-05-04  4.958100  108344.0\n",
              "2022-05-05  4.918800  105304.0\n",
              "2022-05-06  5.028000  105135.0\n",
              "2022-05-09  5.080400  103250.0\n",
              "2022-05-10  5.160900  103110.0\n",
              "2022-05-11  5.131300  104397.0\n",
              "2022-05-12  5.134252  105688.0\n",
              "2022-05-13  5.133400  106924.0\n",
              "2022-05-16  5.058300  108233.0\n",
              "2022-05-17  5.059700  108789.0\n",
              "2022-05-18  4.938100  106247.0\n",
              "2022-05-19  4.967500  107005.0\n",
              "2022-05-20  4.930000  108488.0\n",
              "2022-05-23  4.880200  110346.0\n",
              "2022-05-24  4.813500  110581.0\n",
              "2022-05-25  4.817800  110580.0\n",
              "2022-05-26  4.822800  111890.0\n",
              "2022-05-27  4.768200  111942.0\n",
              "2022-05-30  4.729600  111032.0\n",
              "2022-05-31  4.752400  111351.0\n",
              "2022-06-01  4.730400  111360.0\n",
              "2022-06-02  4.815500  112393.0\n",
              "2022-06-03  4.795700  111102.0\n",
              "2022-06-06  4.775000  110186.0\n",
              "2022-06-07  4.794200  110070.0\n",
              "2022-06-08  4.867526  108368.0\n",
              "2022-06-09  4.898100  107094.0\n",
              "2022-06-10  4.903300  105481.0\n",
              "2022-06-13  4.984000  102598.0\n",
              "2022-06-14  5.113400  102063.0"
            ],
            "text/html": [
              "\n",
              "  <div id=\"df-d624625d-1a8c-41ad-ae1a-53242b944387\">\n",
              "    <div class=\"colab-df-container\">\n",
              "      <div>\n",
              "<style scoped>\n",
              "    .dataframe tbody tr th:only-of-type {\n",
              "        vertical-align: middle;\n",
              "    }\n",
              "\n",
              "    .dataframe tbody tr th {\n",
              "        vertical-align: top;\n",
              "    }\n",
              "\n",
              "    .dataframe thead th {\n",
              "        text-align: right;\n",
              "    }\n",
              "</style>\n",
              "<table border=\"1\" class=\"dataframe\">\n",
              "  <thead>\n",
              "    <tr style=\"text-align: right;\">\n",
              "      <th></th>\n",
              "      <th>dolar</th>\n",
              "      <th>ibovespa</th>\n",
              "    </tr>\n",
              "    <tr>\n",
              "      <th>Date</th>\n",
              "      <th></th>\n",
              "      <th></th>\n",
              "    </tr>\n",
              "  </thead>\n",
              "  <tbody>\n",
              "    <tr>\n",
              "      <th>2022-04-04</th>\n",
              "      <td>4.657200</td>\n",
              "      <td>121280.0</td>\n",
              "    </tr>\n",
              "    <tr>\n",
              "      <th>2022-04-05</th>\n",
              "      <td>4.593800</td>\n",
              "      <td>118885.0</td>\n",
              "    </tr>\n",
              "    <tr>\n",
              "      <th>2022-04-06</th>\n",
              "      <td>4.650700</td>\n",
              "      <td>118228.0</td>\n",
              "    </tr>\n",
              "    <tr>\n",
              "      <th>2022-04-07</th>\n",
              "      <td>4.715200</td>\n",
              "      <td>118862.0</td>\n",
              "    </tr>\n",
              "    <tr>\n",
              "      <th>2022-04-08</th>\n",
              "      <td>4.752100</td>\n",
              "      <td>118322.0</td>\n",
              "    </tr>\n",
              "    <tr>\n",
              "      <th>2022-04-11</th>\n",
              "      <td>4.698100</td>\n",
              "      <td>116953.0</td>\n",
              "    </tr>\n",
              "    <tr>\n",
              "      <th>2022-04-12</th>\n",
              "      <td>4.693600</td>\n",
              "      <td>116147.0</td>\n",
              "    </tr>\n",
              "    <tr>\n",
              "      <th>2022-04-13</th>\n",
              "      <td>4.673100</td>\n",
              "      <td>116782.0</td>\n",
              "    </tr>\n",
              "    <tr>\n",
              "      <th>2022-04-14</th>\n",
              "      <td>4.690200</td>\n",
              "      <td>116182.0</td>\n",
              "    </tr>\n",
              "    <tr>\n",
              "      <th>2022-04-18</th>\n",
              "      <td>4.700600</td>\n",
              "      <td>115687.0</td>\n",
              "    </tr>\n",
              "    <tr>\n",
              "      <th>2022-04-19</th>\n",
              "      <td>4.652000</td>\n",
              "      <td>115057.0</td>\n",
              "    </tr>\n",
              "    <tr>\n",
              "      <th>2022-04-20</th>\n",
              "      <td>4.665000</td>\n",
              "      <td>114344.0</td>\n",
              "    </tr>\n",
              "    <tr>\n",
              "      <th>2022-04-22</th>\n",
              "      <td>4.620800</td>\n",
              "      <td>111078.0</td>\n",
              "    </tr>\n",
              "    <tr>\n",
              "      <th>2022-04-25</th>\n",
              "      <td>4.795200</td>\n",
              "      <td>110685.0</td>\n",
              "    </tr>\n",
              "    <tr>\n",
              "      <th>2022-04-26</th>\n",
              "      <td>4.876200</td>\n",
              "      <td>108213.0</td>\n",
              "    </tr>\n",
              "    <tr>\n",
              "      <th>2022-04-27</th>\n",
              "      <td>4.997800</td>\n",
              "      <td>109349.0</td>\n",
              "    </tr>\n",
              "    <tr>\n",
              "      <th>2022-04-28</th>\n",
              "      <td>4.963600</td>\n",
              "      <td>109919.0</td>\n",
              "    </tr>\n",
              "    <tr>\n",
              "      <th>2022-04-29</th>\n",
              "      <td>4.937800</td>\n",
              "      <td>107876.0</td>\n",
              "    </tr>\n",
              "    <tr>\n",
              "      <th>2022-05-02</th>\n",
              "      <td>4.971300</td>\n",
              "      <td>106639.0</td>\n",
              "    </tr>\n",
              "    <tr>\n",
              "      <th>2022-05-03</th>\n",
              "      <td>5.084700</td>\n",
              "      <td>106528.0</td>\n",
              "    </tr>\n",
              "    <tr>\n",
              "      <th>2022-05-04</th>\n",
              "      <td>4.958100</td>\n",
              "      <td>108344.0</td>\n",
              "    </tr>\n",
              "    <tr>\n",
              "      <th>2022-05-05</th>\n",
              "      <td>4.918800</td>\n",
              "      <td>105304.0</td>\n",
              "    </tr>\n",
              "    <tr>\n",
              "      <th>2022-05-06</th>\n",
              "      <td>5.028000</td>\n",
              "      <td>105135.0</td>\n",
              "    </tr>\n",
              "    <tr>\n",
              "      <th>2022-05-09</th>\n",
              "      <td>5.080400</td>\n",
              "      <td>103250.0</td>\n",
              "    </tr>\n",
              "    <tr>\n",
              "      <th>2022-05-10</th>\n",
              "      <td>5.160900</td>\n",
              "      <td>103110.0</td>\n",
              "    </tr>\n",
              "    <tr>\n",
              "      <th>2022-05-11</th>\n",
              "      <td>5.131300</td>\n",
              "      <td>104397.0</td>\n",
              "    </tr>\n",
              "    <tr>\n",
              "      <th>2022-05-12</th>\n",
              "      <td>5.134252</td>\n",
              "      <td>105688.0</td>\n",
              "    </tr>\n",
              "    <tr>\n",
              "      <th>2022-05-13</th>\n",
              "      <td>5.133400</td>\n",
              "      <td>106924.0</td>\n",
              "    </tr>\n",
              "    <tr>\n",
              "      <th>2022-05-16</th>\n",
              "      <td>5.058300</td>\n",
              "      <td>108233.0</td>\n",
              "    </tr>\n",
              "    <tr>\n",
              "      <th>2022-05-17</th>\n",
              "      <td>5.059700</td>\n",
              "      <td>108789.0</td>\n",
              "    </tr>\n",
              "    <tr>\n",
              "      <th>2022-05-18</th>\n",
              "      <td>4.938100</td>\n",
              "      <td>106247.0</td>\n",
              "    </tr>\n",
              "    <tr>\n",
              "      <th>2022-05-19</th>\n",
              "      <td>4.967500</td>\n",
              "      <td>107005.0</td>\n",
              "    </tr>\n",
              "    <tr>\n",
              "      <th>2022-05-20</th>\n",
              "      <td>4.930000</td>\n",
              "      <td>108488.0</td>\n",
              "    </tr>\n",
              "    <tr>\n",
              "      <th>2022-05-23</th>\n",
              "      <td>4.880200</td>\n",
              "      <td>110346.0</td>\n",
              "    </tr>\n",
              "    <tr>\n",
              "      <th>2022-05-24</th>\n",
              "      <td>4.813500</td>\n",
              "      <td>110581.0</td>\n",
              "    </tr>\n",
              "    <tr>\n",
              "      <th>2022-05-25</th>\n",
              "      <td>4.817800</td>\n",
              "      <td>110580.0</td>\n",
              "    </tr>\n",
              "    <tr>\n",
              "      <th>2022-05-26</th>\n",
              "      <td>4.822800</td>\n",
              "      <td>111890.0</td>\n",
              "    </tr>\n",
              "    <tr>\n",
              "      <th>2022-05-27</th>\n",
              "      <td>4.768200</td>\n",
              "      <td>111942.0</td>\n",
              "    </tr>\n",
              "    <tr>\n",
              "      <th>2022-05-30</th>\n",
              "      <td>4.729600</td>\n",
              "      <td>111032.0</td>\n",
              "    </tr>\n",
              "    <tr>\n",
              "      <th>2022-05-31</th>\n",
              "      <td>4.752400</td>\n",
              "      <td>111351.0</td>\n",
              "    </tr>\n",
              "    <tr>\n",
              "      <th>2022-06-01</th>\n",
              "      <td>4.730400</td>\n",
              "      <td>111360.0</td>\n",
              "    </tr>\n",
              "    <tr>\n",
              "      <th>2022-06-02</th>\n",
              "      <td>4.815500</td>\n",
              "      <td>112393.0</td>\n",
              "    </tr>\n",
              "    <tr>\n",
              "      <th>2022-06-03</th>\n",
              "      <td>4.795700</td>\n",
              "      <td>111102.0</td>\n",
              "    </tr>\n",
              "    <tr>\n",
              "      <th>2022-06-06</th>\n",
              "      <td>4.775000</td>\n",
              "      <td>110186.0</td>\n",
              "    </tr>\n",
              "    <tr>\n",
              "      <th>2022-06-07</th>\n",
              "      <td>4.794200</td>\n",
              "      <td>110070.0</td>\n",
              "    </tr>\n",
              "    <tr>\n",
              "      <th>2022-06-08</th>\n",
              "      <td>4.867526</td>\n",
              "      <td>108368.0</td>\n",
              "    </tr>\n",
              "    <tr>\n",
              "      <th>2022-06-09</th>\n",
              "      <td>4.898100</td>\n",
              "      <td>107094.0</td>\n",
              "    </tr>\n",
              "    <tr>\n",
              "      <th>2022-06-10</th>\n",
              "      <td>4.903300</td>\n",
              "      <td>105481.0</td>\n",
              "    </tr>\n",
              "    <tr>\n",
              "      <th>2022-06-13</th>\n",
              "      <td>4.984000</td>\n",
              "      <td>102598.0</td>\n",
              "    </tr>\n",
              "    <tr>\n",
              "      <th>2022-06-14</th>\n",
              "      <td>5.113400</td>\n",
              "      <td>102063.0</td>\n",
              "    </tr>\n",
              "  </tbody>\n",
              "</table>\n",
              "</div>\n",
              "      <button class=\"colab-df-convert\" onclick=\"convertToInteractive('df-d624625d-1a8c-41ad-ae1a-53242b944387')\"\n",
              "              title=\"Convert this dataframe to an interactive table.\"\n",
              "              style=\"display:none;\">\n",
              "        \n",
              "  <svg xmlns=\"http://www.w3.org/2000/svg\" height=\"24px\"viewBox=\"0 0 24 24\"\n",
              "       width=\"24px\">\n",
              "    <path d=\"M0 0h24v24H0V0z\" fill=\"none\"/>\n",
              "    <path d=\"M18.56 5.44l.94 2.06.94-2.06 2.06-.94-2.06-.94-.94-2.06-.94 2.06-2.06.94zm-11 1L8.5 8.5l.94-2.06 2.06-.94-2.06-.94L8.5 2.5l-.94 2.06-2.06.94zm10 10l.94 2.06.94-2.06 2.06-.94-2.06-.94-.94-2.06-.94 2.06-2.06.94z\"/><path d=\"M17.41 7.96l-1.37-1.37c-.4-.4-.92-.59-1.43-.59-.52 0-1.04.2-1.43.59L10.3 9.45l-7.72 7.72c-.78.78-.78 2.05 0 2.83L4 21.41c.39.39.9.59 1.41.59.51 0 1.02-.2 1.41-.59l7.78-7.78 2.81-2.81c.8-.78.8-2.07 0-2.86zM5.41 20L4 18.59l7.72-7.72 1.47 1.35L5.41 20z\"/>\n",
              "  </svg>\n",
              "      </button>\n",
              "      \n",
              "  <style>\n",
              "    .colab-df-container {\n",
              "      display:flex;\n",
              "      flex-wrap:wrap;\n",
              "      gap: 12px;\n",
              "    }\n",
              "\n",
              "    .colab-df-convert {\n",
              "      background-color: #E8F0FE;\n",
              "      border: none;\n",
              "      border-radius: 50%;\n",
              "      cursor: pointer;\n",
              "      display: none;\n",
              "      fill: #1967D2;\n",
              "      height: 32px;\n",
              "      padding: 0 0 0 0;\n",
              "      width: 32px;\n",
              "    }\n",
              "\n",
              "    .colab-df-convert:hover {\n",
              "      background-color: #E2EBFA;\n",
              "      box-shadow: 0px 1px 2px rgba(60, 64, 67, 0.3), 0px 1px 3px 1px rgba(60, 64, 67, 0.15);\n",
              "      fill: #174EA6;\n",
              "    }\n",
              "\n",
              "    [theme=dark] .colab-df-convert {\n",
              "      background-color: #3B4455;\n",
              "      fill: #D2E3FC;\n",
              "    }\n",
              "\n",
              "    [theme=dark] .colab-df-convert:hover {\n",
              "      background-color: #434B5C;\n",
              "      box-shadow: 0px 1px 3px 1px rgba(0, 0, 0, 0.15);\n",
              "      filter: drop-shadow(0px 1px 2px rgba(0, 0, 0, 0.3));\n",
              "      fill: #FFFFFF;\n",
              "    }\n",
              "  </style>\n",
              "\n",
              "      <script>\n",
              "        const buttonEl =\n",
              "          document.querySelector('#df-d624625d-1a8c-41ad-ae1a-53242b944387 button.colab-df-convert');\n",
              "        buttonEl.style.display =\n",
              "          google.colab.kernel.accessAllowed ? 'block' : 'none';\n",
              "\n",
              "        async function convertToInteractive(key) {\n",
              "          const element = document.querySelector('#df-d624625d-1a8c-41ad-ae1a-53242b944387');\n",
              "          const dataTable =\n",
              "            await google.colab.kernel.invokeFunction('convertToInteractive',\n",
              "                                                     [key], {});\n",
              "          if (!dataTable) return;\n",
              "\n",
              "          const docLinkHtml = 'Like what you see? Visit the ' +\n",
              "            '<a target=\"_blank\" href=https://colab.research.google.com/notebooks/data_table.ipynb>data table notebook</a>'\n",
              "            + ' to learn more about interactive tables.';\n",
              "          element.innerHTML = '';\n",
              "          dataTable['output_type'] = 'display_data';\n",
              "          await google.colab.output.renderOutput(dataTable, element);\n",
              "          const docLink = document.createElement('div');\n",
              "          docLink.innerHTML = docLinkHtml;\n",
              "          element.appendChild(docLink);\n",
              "        }\n",
              "      </script>\n",
              "    </div>\n",
              "  </div>\n",
              "  "
            ]
          },
          "metadata": {},
          "execution_count": 137
        }
      ]
    },
    {
      "cell_type": "markdown",
      "source": [
        "MANIPULANDO OS DADOS - CRIANDO TABELAS COM OUTROS TIMEFRAMES"
      ],
      "metadata": {
        "id": "1lnfNKDWUIrw"
      }
    },
    {
      "cell_type": "markdown",
      "source": [],
      "metadata": {
        "id": "T0HhcJE2RmfB"
      }
    },
    {
      "cell_type": "code",
      "source": [
        "dados_fechamento_mensal = dados_fechamento.resample('M').last() #criando tabela mensal\n",
        "\n",
        "dados_fechamento_mensal"
      ],
      "metadata": {
        "id": "JlvwyojpUyzy",
        "outputId": "b0d2abbb-0c7a-4eb7-f0d0-8fbb033048a6",
        "colab": {
          "base_uri": "https://localhost:8080/",
          "height": 489
        }
      },
      "execution_count": null,
      "outputs": [
        {
          "output_type": "execute_result",
          "data": {
            "text/plain": [
              "             dolar  ibovespa\n",
              "Date                        \n",
              "2022-04-30  4.9378  107876.0\n",
              "2022-05-31  4.7524  111351.0\n",
              "2022-06-30  5.1809   98542.0\n",
              "2022-07-31  5.1827  103165.0\n",
              "2022-08-31  5.1219  109523.0\n",
              "2022-09-30  5.3962  110037.0\n",
              "2022-10-31  5.2885  116037.0\n",
              "2022-11-30  5.2682  112486.0\n",
              "2022-12-31  5.2668  110031.0\n",
              "2023-01-31  5.1149  113532.0\n",
              "2023-02-28  5.1997  104932.0\n",
              "2023-03-31  5.0927  101882.0\n",
              "2023-04-30  5.0623  101506.0"
            ],
            "text/html": [
              "\n",
              "  <div id=\"df-bc8a908b-b754-4f58-967e-507f6873b859\">\n",
              "    <div class=\"colab-df-container\">\n",
              "      <div>\n",
              "<style scoped>\n",
              "    .dataframe tbody tr th:only-of-type {\n",
              "        vertical-align: middle;\n",
              "    }\n",
              "\n",
              "    .dataframe tbody tr th {\n",
              "        vertical-align: top;\n",
              "    }\n",
              "\n",
              "    .dataframe thead th {\n",
              "        text-align: right;\n",
              "    }\n",
              "</style>\n",
              "<table border=\"1\" class=\"dataframe\">\n",
              "  <thead>\n",
              "    <tr style=\"text-align: right;\">\n",
              "      <th></th>\n",
              "      <th>dolar</th>\n",
              "      <th>ibovespa</th>\n",
              "    </tr>\n",
              "    <tr>\n",
              "      <th>Date</th>\n",
              "      <th></th>\n",
              "      <th></th>\n",
              "    </tr>\n",
              "  </thead>\n",
              "  <tbody>\n",
              "    <tr>\n",
              "      <th>2022-04-30</th>\n",
              "      <td>4.9378</td>\n",
              "      <td>107876.0</td>\n",
              "    </tr>\n",
              "    <tr>\n",
              "      <th>2022-05-31</th>\n",
              "      <td>4.7524</td>\n",
              "      <td>111351.0</td>\n",
              "    </tr>\n",
              "    <tr>\n",
              "      <th>2022-06-30</th>\n",
              "      <td>5.1809</td>\n",
              "      <td>98542.0</td>\n",
              "    </tr>\n",
              "    <tr>\n",
              "      <th>2022-07-31</th>\n",
              "      <td>5.1827</td>\n",
              "      <td>103165.0</td>\n",
              "    </tr>\n",
              "    <tr>\n",
              "      <th>2022-08-31</th>\n",
              "      <td>5.1219</td>\n",
              "      <td>109523.0</td>\n",
              "    </tr>\n",
              "    <tr>\n",
              "      <th>2022-09-30</th>\n",
              "      <td>5.3962</td>\n",
              "      <td>110037.0</td>\n",
              "    </tr>\n",
              "    <tr>\n",
              "      <th>2022-10-31</th>\n",
              "      <td>5.2885</td>\n",
              "      <td>116037.0</td>\n",
              "    </tr>\n",
              "    <tr>\n",
              "      <th>2022-11-30</th>\n",
              "      <td>5.2682</td>\n",
              "      <td>112486.0</td>\n",
              "    </tr>\n",
              "    <tr>\n",
              "      <th>2022-12-31</th>\n",
              "      <td>5.2668</td>\n",
              "      <td>110031.0</td>\n",
              "    </tr>\n",
              "    <tr>\n",
              "      <th>2023-01-31</th>\n",
              "      <td>5.1149</td>\n",
              "      <td>113532.0</td>\n",
              "    </tr>\n",
              "    <tr>\n",
              "      <th>2023-02-28</th>\n",
              "      <td>5.1997</td>\n",
              "      <td>104932.0</td>\n",
              "    </tr>\n",
              "    <tr>\n",
              "      <th>2023-03-31</th>\n",
              "      <td>5.0927</td>\n",
              "      <td>101882.0</td>\n",
              "    </tr>\n",
              "    <tr>\n",
              "      <th>2023-04-30</th>\n",
              "      <td>5.0623</td>\n",
              "      <td>101506.0</td>\n",
              "    </tr>\n",
              "  </tbody>\n",
              "</table>\n",
              "</div>\n",
              "      <button class=\"colab-df-convert\" onclick=\"convertToInteractive('df-bc8a908b-b754-4f58-967e-507f6873b859')\"\n",
              "              title=\"Convert this dataframe to an interactive table.\"\n",
              "              style=\"display:none;\">\n",
              "        \n",
              "  <svg xmlns=\"http://www.w3.org/2000/svg\" height=\"24px\"viewBox=\"0 0 24 24\"\n",
              "       width=\"24px\">\n",
              "    <path d=\"M0 0h24v24H0V0z\" fill=\"none\"/>\n",
              "    <path d=\"M18.56 5.44l.94 2.06.94-2.06 2.06-.94-2.06-.94-.94-2.06-.94 2.06-2.06.94zm-11 1L8.5 8.5l.94-2.06 2.06-.94-2.06-.94L8.5 2.5l-.94 2.06-2.06.94zm10 10l.94 2.06.94-2.06 2.06-.94-2.06-.94-.94-2.06-.94 2.06-2.06.94z\"/><path d=\"M17.41 7.96l-1.37-1.37c-.4-.4-.92-.59-1.43-.59-.52 0-1.04.2-1.43.59L10.3 9.45l-7.72 7.72c-.78.78-.78 2.05 0 2.83L4 21.41c.39.39.9.59 1.41.59.51 0 1.02-.2 1.41-.59l7.78-7.78 2.81-2.81c.8-.78.8-2.07 0-2.86zM5.41 20L4 18.59l7.72-7.72 1.47 1.35L5.41 20z\"/>\n",
              "  </svg>\n",
              "      </button>\n",
              "      \n",
              "  <style>\n",
              "    .colab-df-container {\n",
              "      display:flex;\n",
              "      flex-wrap:wrap;\n",
              "      gap: 12px;\n",
              "    }\n",
              "\n",
              "    .colab-df-convert {\n",
              "      background-color: #E8F0FE;\n",
              "      border: none;\n",
              "      border-radius: 50%;\n",
              "      cursor: pointer;\n",
              "      display: none;\n",
              "      fill: #1967D2;\n",
              "      height: 32px;\n",
              "      padding: 0 0 0 0;\n",
              "      width: 32px;\n",
              "    }\n",
              "\n",
              "    .colab-df-convert:hover {\n",
              "      background-color: #E2EBFA;\n",
              "      box-shadow: 0px 1px 2px rgba(60, 64, 67, 0.3), 0px 1px 3px 1px rgba(60, 64, 67, 0.15);\n",
              "      fill: #174EA6;\n",
              "    }\n",
              "\n",
              "    [theme=dark] .colab-df-convert {\n",
              "      background-color: #3B4455;\n",
              "      fill: #D2E3FC;\n",
              "    }\n",
              "\n",
              "    [theme=dark] .colab-df-convert:hover {\n",
              "      background-color: #434B5C;\n",
              "      box-shadow: 0px 1px 3px 1px rgba(0, 0, 0, 0.15);\n",
              "      filter: drop-shadow(0px 1px 2px rgba(0, 0, 0, 0.3));\n",
              "      fill: #FFFFFF;\n",
              "    }\n",
              "  </style>\n",
              "\n",
              "      <script>\n",
              "        const buttonEl =\n",
              "          document.querySelector('#df-bc8a908b-b754-4f58-967e-507f6873b859 button.colab-df-convert');\n",
              "        buttonEl.style.display =\n",
              "          google.colab.kernel.accessAllowed ? 'block' : 'none';\n",
              "\n",
              "        async function convertToInteractive(key) {\n",
              "          const element = document.querySelector('#df-bc8a908b-b754-4f58-967e-507f6873b859');\n",
              "          const dataTable =\n",
              "            await google.colab.kernel.invokeFunction('convertToInteractive',\n",
              "                                                     [key], {});\n",
              "          if (!dataTable) return;\n",
              "\n",
              "          const docLinkHtml = 'Like what you see? Visit the ' +\n",
              "            '<a target=\"_blank\" href=https://colab.research.google.com/notebooks/data_table.ipynb>data table notebook</a>'\n",
              "            + ' to learn more about interactive tables.';\n",
              "          element.innerHTML = '';\n",
              "          dataTable['output_type'] = 'display_data';\n",
              "          await google.colab.output.renderOutput(dataTable, element);\n",
              "          const docLink = document.createElement('div');\n",
              "          docLink.innerHTML = docLinkHtml;\n",
              "          element.appendChild(docLink);\n",
              "        }\n",
              "      </script>\n",
              "    </div>\n",
              "  </div>\n",
              "  "
            ]
          },
          "metadata": {},
          "execution_count": 15
        }
      ]
    },
    {
      "cell_type": "code",
      "source": [
        "dados_fechamento_anual = dados_fechamento.resample(\"Y\").last() #buscando dados anual\n",
        "\n",
        "dados_fechamento_anual"
      ],
      "metadata": {
        "id": "nJVfKYvmVtmc",
        "outputId": "016ceace-b81b-4069-a40e-3ce6617a9b6f",
        "colab": {
          "base_uri": "https://localhost:8080/",
          "height": 144
        }
      },
      "execution_count": null,
      "outputs": [
        {
          "output_type": "execute_result",
          "data": {
            "text/plain": [
              "             dolar  ibovespa\n",
              "Date                        \n",
              "2022-12-31  5.2668  110031.0\n",
              "2023-12-31  5.0623  101506.0"
            ],
            "text/html": [
              "\n",
              "  <div id=\"df-0499abcd-0784-4b95-a369-6fcdf1f2c61b\">\n",
              "    <div class=\"colab-df-container\">\n",
              "      <div>\n",
              "<style scoped>\n",
              "    .dataframe tbody tr th:only-of-type {\n",
              "        vertical-align: middle;\n",
              "    }\n",
              "\n",
              "    .dataframe tbody tr th {\n",
              "        vertical-align: top;\n",
              "    }\n",
              "\n",
              "    .dataframe thead th {\n",
              "        text-align: right;\n",
              "    }\n",
              "</style>\n",
              "<table border=\"1\" class=\"dataframe\">\n",
              "  <thead>\n",
              "    <tr style=\"text-align: right;\">\n",
              "      <th></th>\n",
              "      <th>dolar</th>\n",
              "      <th>ibovespa</th>\n",
              "    </tr>\n",
              "    <tr>\n",
              "      <th>Date</th>\n",
              "      <th></th>\n",
              "      <th></th>\n",
              "    </tr>\n",
              "  </thead>\n",
              "  <tbody>\n",
              "    <tr>\n",
              "      <th>2022-12-31</th>\n",
              "      <td>5.2668</td>\n",
              "      <td>110031.0</td>\n",
              "    </tr>\n",
              "    <tr>\n",
              "      <th>2023-12-31</th>\n",
              "      <td>5.0623</td>\n",
              "      <td>101506.0</td>\n",
              "    </tr>\n",
              "  </tbody>\n",
              "</table>\n",
              "</div>\n",
              "      <button class=\"colab-df-convert\" onclick=\"convertToInteractive('df-0499abcd-0784-4b95-a369-6fcdf1f2c61b')\"\n",
              "              title=\"Convert this dataframe to an interactive table.\"\n",
              "              style=\"display:none;\">\n",
              "        \n",
              "  <svg xmlns=\"http://www.w3.org/2000/svg\" height=\"24px\"viewBox=\"0 0 24 24\"\n",
              "       width=\"24px\">\n",
              "    <path d=\"M0 0h24v24H0V0z\" fill=\"none\"/>\n",
              "    <path d=\"M18.56 5.44l.94 2.06.94-2.06 2.06-.94-2.06-.94-.94-2.06-.94 2.06-2.06.94zm-11 1L8.5 8.5l.94-2.06 2.06-.94-2.06-.94L8.5 2.5l-.94 2.06-2.06.94zm10 10l.94 2.06.94-2.06 2.06-.94-2.06-.94-.94-2.06-.94 2.06-2.06.94z\"/><path d=\"M17.41 7.96l-1.37-1.37c-.4-.4-.92-.59-1.43-.59-.52 0-1.04.2-1.43.59L10.3 9.45l-7.72 7.72c-.78.78-.78 2.05 0 2.83L4 21.41c.39.39.9.59 1.41.59.51 0 1.02-.2 1.41-.59l7.78-7.78 2.81-2.81c.8-.78.8-2.07 0-2.86zM5.41 20L4 18.59l7.72-7.72 1.47 1.35L5.41 20z\"/>\n",
              "  </svg>\n",
              "      </button>\n",
              "      \n",
              "  <style>\n",
              "    .colab-df-container {\n",
              "      display:flex;\n",
              "      flex-wrap:wrap;\n",
              "      gap: 12px;\n",
              "    }\n",
              "\n",
              "    .colab-df-convert {\n",
              "      background-color: #E8F0FE;\n",
              "      border: none;\n",
              "      border-radius: 50%;\n",
              "      cursor: pointer;\n",
              "      display: none;\n",
              "      fill: #1967D2;\n",
              "      height: 32px;\n",
              "      padding: 0 0 0 0;\n",
              "      width: 32px;\n",
              "    }\n",
              "\n",
              "    .colab-df-convert:hover {\n",
              "      background-color: #E2EBFA;\n",
              "      box-shadow: 0px 1px 2px rgba(60, 64, 67, 0.3), 0px 1px 3px 1px rgba(60, 64, 67, 0.15);\n",
              "      fill: #174EA6;\n",
              "    }\n",
              "\n",
              "    [theme=dark] .colab-df-convert {\n",
              "      background-color: #3B4455;\n",
              "      fill: #D2E3FC;\n",
              "    }\n",
              "\n",
              "    [theme=dark] .colab-df-convert:hover {\n",
              "      background-color: #434B5C;\n",
              "      box-shadow: 0px 1px 3px 1px rgba(0, 0, 0, 0.15);\n",
              "      filter: drop-shadow(0px 1px 2px rgba(0, 0, 0, 0.3));\n",
              "      fill: #FFFFFF;\n",
              "    }\n",
              "  </style>\n",
              "\n",
              "      <script>\n",
              "        const buttonEl =\n",
              "          document.querySelector('#df-0499abcd-0784-4b95-a369-6fcdf1f2c61b button.colab-df-convert');\n",
              "        buttonEl.style.display =\n",
              "          google.colab.kernel.accessAllowed ? 'block' : 'none';\n",
              "\n",
              "        async function convertToInteractive(key) {\n",
              "          const element = document.querySelector('#df-0499abcd-0784-4b95-a369-6fcdf1f2c61b');\n",
              "          const dataTable =\n",
              "            await google.colab.kernel.invokeFunction('convertToInteractive',\n",
              "                                                     [key], {});\n",
              "          if (!dataTable) return;\n",
              "\n",
              "          const docLinkHtml = 'Like what you see? Visit the ' +\n",
              "            '<a target=\"_blank\" href=https://colab.research.google.com/notebooks/data_table.ipynb>data table notebook</a>'\n",
              "            + ' to learn more about interactive tables.';\n",
              "          element.innerHTML = '';\n",
              "          dataTable['output_type'] = 'display_data';\n",
              "          await google.colab.output.renderOutput(dataTable, element);\n",
              "          const docLink = document.createElement('div');\n",
              "          docLink.innerHTML = docLinkHtml;\n",
              "          element.appendChild(docLink);\n",
              "        }\n",
              "      </script>\n",
              "    </div>\n",
              "  </div>\n",
              "  "
            ]
          },
          "metadata": {},
          "execution_count": 138
        }
      ]
    },
    {
      "cell_type": "markdown",
      "source": [
        "**CALCULAR FECHAMENTO DO DIA, RETORNO NO ANO E RETORNO NO MES DOS ATIVOS*"
      ],
      "metadata": {
        "id": "HfoIRoVAWKAB"
      }
    },
    {
      "cell_type": "code",
      "source": [
        "retorno_do_ano = dados_fechamento_anual.pct_change().dropna() #buscar anualmente\n",
        "\n",
        "retorno_do_mes = dados_fechamento_mensal.pct_change().dropna() #buscar mensalmente\n",
        "\n",
        "retorno_do_dia = dados_fechamento.pct_change().dropna() #buscar diariamente\n",
        "\n",
        "\n",
        "\n",
        "retorno_do_dia"
      ],
      "metadata": {
        "id": "ksM4RSjTXSTy",
        "outputId": "05e6be88-8784-4c57-809c-78e8c43943a5",
        "colab": {
          "base_uri": "https://localhost:8080/",
          "height": 455
        }
      },
      "execution_count": null,
      "outputs": [
        {
          "output_type": "execute_result",
          "data": {
            "text/plain": [
              "               dolar  ibovespa\n",
              "Date                          \n",
              "2022-04-05 -0.013613 -0.019748\n",
              "2022-04-06  0.012386 -0.005526\n",
              "2022-04-07  0.013869  0.005363\n",
              "2022-04-08  0.007826 -0.004543\n",
              "2022-04-11 -0.011363 -0.011570\n",
              "...              ...       ...\n",
              "2023-03-28 -0.009151  0.015200\n",
              "2023-03-29 -0.006292  0.006009\n",
              "2023-03-30 -0.005848  0.018862\n",
              "2023-03-31 -0.008083 -0.017654\n",
              "2023-04-03 -0.005969 -0.003691\n",
              "\n",
              "[250 rows x 2 columns]"
            ],
            "text/html": [
              "\n",
              "  <div id=\"df-63c20237-24c5-4c40-8fc3-30281be4ea36\">\n",
              "    <div class=\"colab-df-container\">\n",
              "      <div>\n",
              "<style scoped>\n",
              "    .dataframe tbody tr th:only-of-type {\n",
              "        vertical-align: middle;\n",
              "    }\n",
              "\n",
              "    .dataframe tbody tr th {\n",
              "        vertical-align: top;\n",
              "    }\n",
              "\n",
              "    .dataframe thead th {\n",
              "        text-align: right;\n",
              "    }\n",
              "</style>\n",
              "<table border=\"1\" class=\"dataframe\">\n",
              "  <thead>\n",
              "    <tr style=\"text-align: right;\">\n",
              "      <th></th>\n",
              "      <th>dolar</th>\n",
              "      <th>ibovespa</th>\n",
              "    </tr>\n",
              "    <tr>\n",
              "      <th>Date</th>\n",
              "      <th></th>\n",
              "      <th></th>\n",
              "    </tr>\n",
              "  </thead>\n",
              "  <tbody>\n",
              "    <tr>\n",
              "      <th>2022-04-05</th>\n",
              "      <td>-0.013613</td>\n",
              "      <td>-0.019748</td>\n",
              "    </tr>\n",
              "    <tr>\n",
              "      <th>2022-04-06</th>\n",
              "      <td>0.012386</td>\n",
              "      <td>-0.005526</td>\n",
              "    </tr>\n",
              "    <tr>\n",
              "      <th>2022-04-07</th>\n",
              "      <td>0.013869</td>\n",
              "      <td>0.005363</td>\n",
              "    </tr>\n",
              "    <tr>\n",
              "      <th>2022-04-08</th>\n",
              "      <td>0.007826</td>\n",
              "      <td>-0.004543</td>\n",
              "    </tr>\n",
              "    <tr>\n",
              "      <th>2022-04-11</th>\n",
              "      <td>-0.011363</td>\n",
              "      <td>-0.011570</td>\n",
              "    </tr>\n",
              "    <tr>\n",
              "      <th>...</th>\n",
              "      <td>...</td>\n",
              "      <td>...</td>\n",
              "    </tr>\n",
              "    <tr>\n",
              "      <th>2023-03-28</th>\n",
              "      <td>-0.009151</td>\n",
              "      <td>0.015200</td>\n",
              "    </tr>\n",
              "    <tr>\n",
              "      <th>2023-03-29</th>\n",
              "      <td>-0.006292</td>\n",
              "      <td>0.006009</td>\n",
              "    </tr>\n",
              "    <tr>\n",
              "      <th>2023-03-30</th>\n",
              "      <td>-0.005848</td>\n",
              "      <td>0.018862</td>\n",
              "    </tr>\n",
              "    <tr>\n",
              "      <th>2023-03-31</th>\n",
              "      <td>-0.008083</td>\n",
              "      <td>-0.017654</td>\n",
              "    </tr>\n",
              "    <tr>\n",
              "      <th>2023-04-03</th>\n",
              "      <td>-0.005969</td>\n",
              "      <td>-0.003691</td>\n",
              "    </tr>\n",
              "  </tbody>\n",
              "</table>\n",
              "<p>250 rows × 2 columns</p>\n",
              "</div>\n",
              "      <button class=\"colab-df-convert\" onclick=\"convertToInteractive('df-63c20237-24c5-4c40-8fc3-30281be4ea36')\"\n",
              "              title=\"Convert this dataframe to an interactive table.\"\n",
              "              style=\"display:none;\">\n",
              "        \n",
              "  <svg xmlns=\"http://www.w3.org/2000/svg\" height=\"24px\"viewBox=\"0 0 24 24\"\n",
              "       width=\"24px\">\n",
              "    <path d=\"M0 0h24v24H0V0z\" fill=\"none\"/>\n",
              "    <path d=\"M18.56 5.44l.94 2.06.94-2.06 2.06-.94-2.06-.94-.94-2.06-.94 2.06-2.06.94zm-11 1L8.5 8.5l.94-2.06 2.06-.94-2.06-.94L8.5 2.5l-.94 2.06-2.06.94zm10 10l.94 2.06.94-2.06 2.06-.94-2.06-.94-.94-2.06-.94 2.06-2.06.94z\"/><path d=\"M17.41 7.96l-1.37-1.37c-.4-.4-.92-.59-1.43-.59-.52 0-1.04.2-1.43.59L10.3 9.45l-7.72 7.72c-.78.78-.78 2.05 0 2.83L4 21.41c.39.39.9.59 1.41.59.51 0 1.02-.2 1.41-.59l7.78-7.78 2.81-2.81c.8-.78.8-2.07 0-2.86zM5.41 20L4 18.59l7.72-7.72 1.47 1.35L5.41 20z\"/>\n",
              "  </svg>\n",
              "      </button>\n",
              "      \n",
              "  <style>\n",
              "    .colab-df-container {\n",
              "      display:flex;\n",
              "      flex-wrap:wrap;\n",
              "      gap: 12px;\n",
              "    }\n",
              "\n",
              "    .colab-df-convert {\n",
              "      background-color: #E8F0FE;\n",
              "      border: none;\n",
              "      border-radius: 50%;\n",
              "      cursor: pointer;\n",
              "      display: none;\n",
              "      fill: #1967D2;\n",
              "      height: 32px;\n",
              "      padding: 0 0 0 0;\n",
              "      width: 32px;\n",
              "    }\n",
              "\n",
              "    .colab-df-convert:hover {\n",
              "      background-color: #E2EBFA;\n",
              "      box-shadow: 0px 1px 2px rgba(60, 64, 67, 0.3), 0px 1px 3px 1px rgba(60, 64, 67, 0.15);\n",
              "      fill: #174EA6;\n",
              "    }\n",
              "\n",
              "    [theme=dark] .colab-df-convert {\n",
              "      background-color: #3B4455;\n",
              "      fill: #D2E3FC;\n",
              "    }\n",
              "\n",
              "    [theme=dark] .colab-df-convert:hover {\n",
              "      background-color: #434B5C;\n",
              "      box-shadow: 0px 1px 3px 1px rgba(0, 0, 0, 0.15);\n",
              "      filter: drop-shadow(0px 1px 2px rgba(0, 0, 0, 0.3));\n",
              "      fill: #FFFFFF;\n",
              "    }\n",
              "  </style>\n",
              "\n",
              "      <script>\n",
              "        const buttonEl =\n",
              "          document.querySelector('#df-63c20237-24c5-4c40-8fc3-30281be4ea36 button.colab-df-convert');\n",
              "        buttonEl.style.display =\n",
              "          google.colab.kernel.accessAllowed ? 'block' : 'none';\n",
              "\n",
              "        async function convertToInteractive(key) {\n",
              "          const element = document.querySelector('#df-63c20237-24c5-4c40-8fc3-30281be4ea36');\n",
              "          const dataTable =\n",
              "            await google.colab.kernel.invokeFunction('convertToInteractive',\n",
              "                                                     [key], {});\n",
              "          if (!dataTable) return;\n",
              "\n",
              "          const docLinkHtml = 'Like what you see? Visit the ' +\n",
              "            '<a target=\"_blank\" href=https://colab.research.google.com/notebooks/data_table.ipynb>data table notebook</a>'\n",
              "            + ' to learn more about interactive tables.';\n",
              "          element.innerHTML = '';\n",
              "          dataTable['output_type'] = 'display_data';\n",
              "          await google.colab.output.renderOutput(dataTable, element);\n",
              "          const docLink = document.createElement('div');\n",
              "          docLink.innerHTML = docLinkHtml;\n",
              "          element.appendChild(docLink);\n",
              "        }\n",
              "      </script>\n",
              "    </div>\n",
              "  </div>\n",
              "  "
            ]
          },
          "metadata": {},
          "execution_count": 139
        }
      ]
    },
    {
      "cell_type": "markdown",
      "source": [
        "**LOCALIZAR O FECHAMENTO DO DIA ANTERIOR RETORNO E RETORNO NO ANO**\n",
        "Loc -> referenciar elementos a partir do nome  .\n",
        "Iloc -> selecionar elementos como uma matriz"
      ],
      "metadata": {
        "id": "yRuNHq7rZnBi"
      }
    },
    {
      "cell_type": "code",
      "source": [
        "retorno_do_dia.loc['2023-04-03']"
      ],
      "metadata": {
        "id": "bdGg6eG2aTyJ",
        "outputId": "6c95f73d-b9f2-470a-bf4a-c91fba483ae7",
        "colab": {
          "base_uri": "https://localhost:8080/"
        }
      },
      "execution_count": null,
      "outputs": [
        {
          "output_type": "execute_result",
          "data": {
            "text/plain": [
              "dolar      -0.005969\n",
              "ibovespa   -0.003691\n",
              "Name: 2023-04-03 00:00:00, dtype: float64"
            ]
          },
          "metadata": {},
          "execution_count": 140
        }
      ]
    },
    {
      "cell_type": "code",
      "source": [
        "retorno_dia_dolar = retorno_do_dia.iloc[-1 , 0]\n",
        "retorno_dia_ibovespa = retorno_do_dia.iloc[-1 , 1]\n",
        "\n",
        "retorno_dia_dolar\n"
      ],
      "metadata": {
        "id": "-yiWeJSDfs6v",
        "outputId": "1bc1973c-e89b-4f94-f8e3-7791c3f6974b",
        "colab": {
          "base_uri": "https://localhost:8080/"
        }
      },
      "execution_count": null,
      "outputs": [
        {
          "output_type": "execute_result",
          "data": {
            "text/plain": [
              "-0.005969289241384401"
            ]
          },
          "metadata": {},
          "execution_count": 141
        }
      ]
    },
    {
      "cell_type": "code",
      "source": [
        "retorno_mes_dolar = retorno_do_mes.iloc[-1 , 0]\n",
        "retorno_mes_ibovespa = retorno_do_mes.iloc[-1 , 1]\n",
        "\n",
        "retorno_mes_dolar"
      ],
      "metadata": {
        "id": "1UjXWxukiW_p",
        "outputId": "51ba9b6a-9fcb-4d42-86df-c851be5afe65",
        "colab": {
          "base_uri": "https://localhost:8080/"
        }
      },
      "execution_count": null,
      "outputs": [
        {
          "output_type": "execute_result",
          "data": {
            "text/plain": [
              "-0.005969289241384401"
            ]
          },
          "metadata": {},
          "execution_count": 142
        }
      ]
    },
    {
      "cell_type": "code",
      "source": [
        "retorno_ano_dolar = retorno_do_ano.iloc[-1 , 0]\n",
        "retorno_ano_ibovespa = retorno_do_ano.iloc[-1 , 1]\n",
        "\n",
        "retorno_ano_ibovespa\n"
      ],
      "metadata": {
        "id": "4WYQtvlji5fe",
        "outputId": "42d7278a-7a87-49f3-a93c-d945ba750ec1",
        "colab": {
          "base_uri": "https://localhost:8080/"
        }
      },
      "execution_count": null,
      "outputs": [
        {
          "output_type": "execute_result",
          "data": {
            "text/plain": [
              "-0.07747816524434026"
            ]
          },
          "metadata": {},
          "execution_count": 143
        }
      ]
    },
    {
      "cell_type": "code",
      "source": [
        "retorno_dia_dolar = round(retorno_dia_dolar * 100 , 2) \n",
        "\n",
        "retorno_dia_ibovespa = round(retorno_dia_ibovespa * 100 , 2)\n",
        "\n",
        "\n",
        "retorno_mes_dolar = round(retorno_mes_dolar * 100 , 2) \n",
        "retorno_mes_ibovespa = round(retorno_mes_ibovespa * 100 ,2)\n",
        "\n",
        "retorno_ano_dolar = round(retorno_ano_dolar * 100 , 2)\n",
        "retorno_ano_ibovespa =round( retorno_ano_ibovespa * 100 , 2)\n",
        "\n",
        "retorno_ano_ibovespa"
      ],
      "metadata": {
        "colab": {
          "base_uri": "https://localhost:8080/"
        },
        "id": "Q95X2K12tKIP",
        "outputId": "73141207-ded2-40ac-c622-bebf63e0fde5"
      },
      "execution_count": null,
      "outputs": [
        {
          "output_type": "execute_result",
          "data": {
            "text/plain": [
              "-7.75"
            ]
          },
          "metadata": {},
          "execution_count": 144
        }
      ]
    },
    {
      "cell_type": "markdown",
      "source": [
        "fazer os graficos da perfomace do ultimo ano dos ativos"
      ],
      "metadata": {
        "id": "OvC0pNHkwvhd"
      }
    },
    {
      "cell_type": "code",
      "source": [
        "plt.style.use(\"cyberpunk\")"
      ],
      "metadata": {
        "id": "8w1fxE8Jw3aQ"
      },
      "execution_count": null,
      "outputs": []
    },
    {
      "cell_type": "code",
      "source": [
        "dados_fechamento.plot(y = 'ibovespa', use_index = True, legend = False)"
      ],
      "metadata": {
        "colab": {
          "base_uri": "https://localhost:8080/",
          "height": 442
        },
        "id": "i-lcstNY3MvV",
        "outputId": "eddc3f49-197a-459d-bba4-9985d0f9fb1a"
      },
      "execution_count": null,
      "outputs": [
        {
          "output_type": "execute_result",
          "data": {
            "text/plain": [
              "<Axes: xlabel='Date'>"
            ]
          },
          "metadata": {},
          "execution_count": 146
        },
        {
          "output_type": "display_data",
          "data": {
            "text/plain": [
              "<Figure size 640x480 with 1 Axes>"
            ],
            "image/png": "[encoded data removed]"
          },
          "metadata": {}
        }
      ]
    },
    {
      "cell_type": "code",
      "source": [
        "dados_fechamento.plot(y = 'ibovespa', use_index = True, legend = False)\n",
        "\n",
        "plt.title(\"Ibovespa\")\n",
        "\n",
        "plt.savefig(' ibovespa.png', dpi = 300)\n",
        "plt.show()"
      ],
      "metadata": {
        "colab": {
          "base_uri": "https://localhost:8080/",
          "height": 446
        },
        "id": "j6j_6FDO3mTw",
        "outputId": "696c9830-ae19-4a9b-ee1f-8dd04eaeeb4a"
      },
      "execution_count": null,
      "outputs": [
        {
          "output_type": "display_data",
          "data": {
            "text/plain": [
              "<Figure size 640x480 with 1 Axes>"
            ],
            "image/png": "[encoded data removed]"
          },
          "metadata": {}
        }
      ]
    },
    {
      "cell_type": "code",
      "source": [
        "dados_fechamento.plot(y = 'dolar', use_index = True, legend = False) #criando eixo Y  do grafico\n",
        "\n",
        "plt.title(\"Dolar\") #criar titulo para io grafico\n",
        "\n",
        "plt.savefig('dolar.png', dpi = 300) #salvar a imagem \n",
        "\n",
        "plt.show()"
      ],
      "metadata": {
        "colab": {
          "base_uri": "https://localhost:8080/",
          "height": 446
        },
        "id": "s6ZyWvCa4tAe",
        "outputId": "9c82fdb4-8e14-4a5a-a541-c1a12852b137"
      },
      "execution_count": null,
      "outputs": [
        {
          "output_type": "display_data",
          "data": {
            "text/plain": [
              "<Figure size 640x480 with 1 Axes>"
            ],
            "image/png": "[encoded data removed]"
          },
          "metadata": {}
        }
      ]
    },
    {
      "cell_type": "markdown",
      "source": [
        "Enviar o email\n",
        "\n",
        "https://myaccount.google.com/apppasswords\n",
        "\n"
      ],
      "metadata": {
        "id": "YZackxXx5Z8V"
      }
    },
    {
      "cell_type": "code",
      "source": [
        "import os #pacote de gerenciamento de hambiente\n",
        "\n",
        "from dotenv import load_dotenv"
      ],
      "metadata": {
        "id": "EK1TQQsU848I"
      },
      "execution_count": null,
      "outputs": []
    },
    {
      "cell_type": "markdown",
      "source": [
        "tem que retornar True pois tem que salvar a senha como env"
      ],
      "metadata": {
        "id": "rVbQ6Jlh9wwR"
      }
    },
    {
      "cell_type": "code",
      "source": [
        "load_dotenv()\n"
      ],
      "metadata": {
        "colab": {
          "base_uri": "https://localhost:8080/"
        },
        "id": "51Z7JZFK8_yu",
        "outputId": "f8ca9813-855b-4385-e084-e33a16504367"
      },
      "execution_count": null,
      "outputs": [
        {
          "output_type": "execute_result",
          "data": {
            "text/plain": [
              "True"
            ]
          },
          "metadata": {},
          "execution_count": 150
        }
      ]
    },
    {
      "cell_type": "code",
      "source": [
        "senha = os.environ.get('/content/.env')\n",
        "\n",
        "email = 'seu email'\n",
        "\n",
        "\n",
        "print(senha)\n",
        "\n"
      ],
      "metadata": {
        "colab": {
          "base_uri": "https://localhost:8080/"
        },
        "id": "rN3Yw1ZT9QCM",
        "outputId": "c36427ea-1e1d-43d8-8a21-e1db37e06f74"
      },
      "execution_count": null,
      "outputs": [
        {
          "output_type": "stream",
          "name": "stdout",
          "text": [
            "None\n"
          ]
        }
      ]
    },
    {
      "cell_type": "code",
      "source": [
        "from google.colab import drive\n",
        "drive.mount('/content/drive')"
      ],
      "metadata": {
        "colab": {
          "base_uri": "https://localhost:8080/"
        },
        "id": "iW3S_czeQq3v",
        "outputId": "91e82555-c84b-456e-c7ea-e62f032f0412"
      },
      "execution_count": null,
      "outputs": [
        {
          "output_type": "stream",
          "name": "stdout",
          "text": [
            "Mounted at /content/drive\n"
          ]
        }
      ]
    },
    {
      "cell_type": "code",
      "source": [
        "msg =EmailMessage() #objeto de email\n",
        "\n",
        "msg['Subject'] = \"Enviando e-mail com python\"\n",
        "\n",
        "msg['From'] = 'seu email'\n",
        "\n",
        "msg['To'] = 'email que vc vai enviar'\n",
        "\n",
        "\n"
      ],
      "metadata": {
        "id": "iJ4gAB8AC2Ui"
      },
      "execution_count": null,
      "outputs": []
    },
    {
      "cell_type": "code",
      "source": [
        "msg.set_content (f'''Prezado diretor, segue o relatorio diario:\n",
        "\n",
        "Bolsa:\n",
        "\n",
        "No ano o Ibovespa esta tendo uma rentabilidade de {retorno_ano_ibovespa}%,\n",
        "enquanto no mes a rentabilidade do Ibovespa foi de {retorno_mes_ibovespa}%\n",
        "\n",
        "No ultimo dia util, o fechamento do Ibovespa foi de {retorno_dia_ibovespa}%\n",
        "\n",
        "\n",
        "Dolar:\n",
        "\n",
        "No ano o Dolar esta tendo uma rentabilidade de {retorno_ano_dolar}%\n",
        "enquanto no mes a rentabilidade do Dolar foi de {retorno_mes_dolar}%\n",
        "\n",
        "No ultimo dia util, o fechamento do Dolar foi de{retorno_dia_dolar}%\n",
        "\n",
        "Abraços\n",
        "\n",
        "To aprendendo :''')\n",
        "\n"
      ],
      "metadata": {
        "id": "wa530vb1KlEZ"
      },
      "execution_count": null,
      "outputs": []
    },
    {
      "cell_type": "code",
      "source": [
        "from packaging.version import SubLocalType\n",
        "\n"
      ],
      "metadata": {
        "id": "VS8dAJuyGmyd"
      },
      "execution_count": null,
      "outputs": []
    },
    {
      "cell_type": "code",
      "source": [
        "with open ('dolar.png', 'rb') as content_file:\n",
        "  content = content_file.read()\n",
        "  msg.add_attachment(content, maintype= 'application', subtype= 'png', filename='/content/dolar.png')"
      ],
      "metadata": {
        "id": "_GZjPvpxK3S8"
      },
      "execution_count": null,
      "outputs": []
    },
    {
      "cell_type": "code",
      "source": [
        "with open ('dolar.png', 'rb') as content_file:\n",
        "  content = content_file.read()\n",
        "  msg.add_attachment(content, maintype= 'application', subtype= 'png', filename='/content/ibovespa.png')"
      ],
      "metadata": {
        "id": "eBeOKasdHuP9"
      },
      "execution_count": null,
      "outputs": []
    },
    {
      "cell_type": "code",
      "source": [
        "from email.policy import SMTP\n",
        "with smtplib.SMTP_SSL('smtp.gmail.com', 465) as smtp:\n",
        "\n",
        "    smtp.login( email, senha)\n",
        "    smtp.send_message(msg)\n",
        "\n"
      ],
      "metadata": {
        "colab": {
          "base_uri": "https://localhost:8080/",
          "height": 432
        },
        "id": "v_F5HPL3H1EG",
        "outputId": "26ed5390-4258-42ad-a25f-04c4052e4b9f"
      },
      "execution_count": null,
      "outputs": [
        {
          "output_type": "error",
          "ename": "SMTPResponseException",
          "evalue": "ignored",
          "traceback": [
            "\u001b[0;31m---------------------------------------------------------------------------\u001b[0m",
            "\u001b[0;31mAttributeError\u001b[0m                            Traceback (most recent call last)",
            "\u001b[0;32m<ipython-input-158-3062f5db4bdf>\u001b[0m in \u001b[0;36m<cell line: 2>\u001b[0;34m()\u001b[0m\n\u001b[1;32m      3\u001b[0m \u001b[0;34m\u001b[0m\u001b[0m\n\u001b[0;32m----> 4\u001b[0;31m     \u001b[0msmtp\u001b[0m\u001b[0;34m.\u001b[0m\u001b[0mlogin\u001b[0m\u001b[0;34m(\u001b[0m \u001b[0memail\u001b[0m\u001b[0;34m,\u001b[0m \u001b[0msenha\u001b[0m\u001b[0;34m)\u001b[0m\u001b[0;34m\u001b[0m\u001b[0;34m\u001b[0m\u001b[0m\n\u001b[0m\u001b[1;32m      5\u001b[0m     \u001b[0msmtp\u001b[0m\u001b[0;34m.\u001b[0m\u001b[0msend_message\u001b[0m\u001b[0;34m(\u001b[0m\u001b[0mmsg\u001b[0m\u001b[0;34m)\u001b[0m\u001b[0;34m\u001b[0m\u001b[0;34m\u001b[0m\u001b[0m\n",
            "\u001b[0;32m/usr/lib/python3.9/smtplib.py\u001b[0m in \u001b[0;36mlogin\u001b[0;34m(self, user, password, initial_response_ok)\u001b[0m\n\u001b[1;32m    738\u001b[0m             \u001b[0;32mtry\u001b[0m\u001b[0;34m:\u001b[0m\u001b[0;34m\u001b[0m\u001b[0;34m\u001b[0m\u001b[0m\n\u001b[0;32m--> 739\u001b[0;31m                 (code, resp) = self.auth(\n\u001b[0m\u001b[1;32m    740\u001b[0m                     \u001b[0mauthmethod\u001b[0m\u001b[0;34m,\u001b[0m \u001b[0mgetattr\u001b[0m\u001b[0;34m(\u001b[0m\u001b[0mself\u001b[0m\u001b[0;34m,\u001b[0m \u001b[0mmethod_name\u001b[0m\u001b[0;34m)\u001b[0m\u001b[0;34m,\u001b[0m\u001b[0;34m\u001b[0m\u001b[0;34m\u001b[0m\u001b[0m\n",
            "\u001b[0;32m/usr/lib/python3.9/smtplib.py\u001b[0m in \u001b[0;36mauth\u001b[0;34m(self, mechanism, authobject, initial_response_ok)\u001b[0m\n\u001b[1;32m    651\u001b[0m             response = encode_base64(\n\u001b[0;32m--> 652\u001b[0;31m                 authobject(challenge).encode('ascii'), eol='')\n\u001b[0m\u001b[1;32m    653\u001b[0m             \u001b[0;34m(\u001b[0m\u001b[0mcode\u001b[0m\u001b[0;34m,\u001b[0m \u001b[0mresp\u001b[0m\u001b[0;34m)\u001b[0m \u001b[0;34m=\u001b[0m \u001b[0mself\u001b[0m\u001b[0;34m.\u001b[0m\u001b[0mdocmd\u001b[0m\u001b[0;34m(\u001b[0m\u001b[0mresponse\u001b[0m\u001b[0;34m)\u001b[0m\u001b[0;34m\u001b[0m\u001b[0;34m\u001b[0m\u001b[0m\n",
            "\u001b[0;31mAttributeError\u001b[0m: 'NoneType' object has no attribute 'encode'",
            "\nDuring handling of the above exception, another exception occurred:\n",
            "\u001b[0;31mSMTPResponseException\u001b[0m                     Traceback (most recent call last)",
            "\u001b[0;32m<ipython-input-158-3062f5db4bdf>\u001b[0m in \u001b[0;36m<cell line: 2>\u001b[0;34m()\u001b[0m\n\u001b[1;32m      3\u001b[0m \u001b[0;34m\u001b[0m\u001b[0m\n\u001b[1;32m      4\u001b[0m     \u001b[0msmtp\u001b[0m\u001b[0;34m.\u001b[0m\u001b[0mlogin\u001b[0m\u001b[0;34m(\u001b[0m \u001b[0memail\u001b[0m\u001b[0;34m,\u001b[0m \u001b[0msenha\u001b[0m\u001b[0;34m)\u001b[0m\u001b[0;34m\u001b[0m\u001b[0;34m\u001b[0m\u001b[0m\n\u001b[0;32m----> 5\u001b[0;31m     \u001b[0msmtp\u001b[0m\u001b[0;34m.\u001b[0m\u001b[0msend_message\u001b[0m\u001b[0;34m(\u001b[0m\u001b[0mmsg\u001b[0m\u001b[0;34m)\u001b[0m\u001b[0;34m\u001b[0m\u001b[0;34m\u001b[0m\u001b[0m\n\u001b[0m\u001b[1;32m      6\u001b[0m \u001b[0;34m\u001b[0m\u001b[0m\n",
            "\u001b[0;32m/usr/lib/python3.9/smtplib.py\u001b[0m in \u001b[0;36m__exit__\u001b[0;34m(self, *args)\u001b[0m\n\u001b[1;32m    282\u001b[0m             \u001b[0mcode\u001b[0m\u001b[0;34m,\u001b[0m \u001b[0mmessage\u001b[0m \u001b[0;34m=\u001b[0m \u001b[0mself\u001b[0m\u001b[0;34m.\u001b[0m\u001b[0mdocmd\u001b[0m\u001b[0;34m(\u001b[0m\u001b[0;34m\"QUIT\"\u001b[0m\u001b[0;34m)\u001b[0m\u001b[0;34m\u001b[0m\u001b[0;34m\u001b[0m\u001b[0m\n\u001b[1;32m    283\u001b[0m             \u001b[0;32mif\u001b[0m \u001b[0mcode\u001b[0m \u001b[0;34m!=\u001b[0m \u001b[0;36m221\u001b[0m\u001b[0;34m:\u001b[0m\u001b[0;34m\u001b[0m\u001b[0;34m\u001b[0m\u001b[0m\n\u001b[0;32m--> 284\u001b[0;31m                 \u001b[0;32mraise\u001b[0m \u001b[0mSMTPResponseException\u001b[0m\u001b[0;34m(\u001b[0m\u001b[0mcode\u001b[0m\u001b[0;34m,\u001b[0m \u001b[0mmessage\u001b[0m\u001b[0;34m)\u001b[0m\u001b[0;34m\u001b[0m\u001b[0;34m\u001b[0m\u001b[0m\n\u001b[0m\u001b[1;32m    285\u001b[0m         \u001b[0;32mexcept\u001b[0m \u001b[0mSMTPServerDisconnected\u001b[0m\u001b[0;34m:\u001b[0m\u001b[0;34m\u001b[0m\u001b[0;34m\u001b[0m\u001b[0m\n\u001b[1;32m    286\u001b[0m             \u001b[0;32mpass\u001b[0m\u001b[0;34m\u001b[0m\u001b[0;34m\u001b[0m\u001b[0m\n",
            "\u001b[0;31mSMTPResponseException\u001b[0m: (535, b'5.7.8 Username and Password not accepted. Learn more at\\n5.7.8  https://support.google.com/mail/?p=BadCredentials y19-20020a62b513000000b005ae02dc5b94sm8931537pfe.219 - gsmtp')"
          ]
        }
      ]
    },
    {
      "cell_type": "code",
      "source": [],
      "metadata": {
        "id": "QnYRbOMBH4g-"
      },
      "execution_count": null,
      "outputs": []
    }
  ],
  "metadata": {
    "colab": {
      "provenance": [],
      "include_colab_link": true
    },
    "kernelspec": {
      "display_name": "Python 3",
      "name": "python3"
    }
  },
  "nbformat": 4,
  "nbformat_minor": 0
}