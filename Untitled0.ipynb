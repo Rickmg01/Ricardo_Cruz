{
  "nbformat": 4,
  "nbformat_minor": 0,
  "metadata": {
    "colab": {
      "provenance": [],
      "authorship_tag": "ABX9TyO9lM+BDoUFLfXAM1sqH0pw",
      "include_colab_link": true
    },
    "kernelspec": {
      "name": "python3",
      "display_name": "Python 3"
    },
    "language_info": {
      "name": "python"
    }
  },
  "cells": [
    {
      "cell_type": "markdown",
      "metadata": {
        "id": "view-in-github",
        "colab_type": "text"
      },
      "source": [
        "<a href=\"https://colab.research.google.com/github/Rickmg01/Rickmg/blob/main/Untitled0.ipynb\" target=\"_parent\"><img src=\"https://colab.research.google.com/assets/colab-badge.svg\" alt=\"Open In Colab\"/></a>"
      ]
    },
    {
      "cell_type": "markdown",
      "source": [
        "#  calculo de imc"
      ],
      "metadata": {
        "id": "77FmB5HjDIWz"
      }
    },
    {
      "cell_type": "code",
      "source": [
        "peso = eval(input('entre com o peso'))\n",
        "altura = eval(input('entre com a altura'))\n",
        "\n",
        "imc = peso /( altura**2)\n",
        "print('imc=', imc)"
      ],
      "metadata": {
        "colab": {
          "base_uri": "https://localhost:8080/"
        },
        "id": "CnS1KWwgDSCd",
        "outputId": "01713339-8c11-43a4-97f7-006cec78c394"
      },
      "execution_count": 1,
      "outputs": [
        {
          "output_type": "stream",
          "name": "stdout",
          "text": [
            "entre com o peso10\n",
            "entre com a altura20\n",
            "imc= 0.025\n"
          ]
        }
      ]
    }
  ]
}